{
 "cells": [
  {
   "cell_type": "code",
   "execution_count": 1,
   "id": "7bf6c47e",
   "metadata": {
    "_cell_guid": "3d22bdfb-25b5-4b7f-833f-da1c72df7d7e",
    "_uuid": "b7467f5d-f781-4654-8d28-977c4440c60e",
    "collapsed": false,
    "execution": {
     "iopub.execute_input": "2023-08-24T18:37:58.835079Z",
     "iopub.status.busy": "2023-08-24T18:37:58.834432Z",
     "iopub.status.idle": "2023-08-24T18:37:58.844166Z",
     "shell.execute_reply": "2023-08-24T18:37:58.843586Z"
    },
    "jupyter": {
     "outputs_hidden": false
    },
    "papermill": {
     "duration": 0.017077,
     "end_time": "2023-08-24T18:37:58.845818",
     "exception": false,
     "start_time": "2023-08-24T18:37:58.828741",
     "status": "completed"
    },
    "tags": []
   },
   "outputs": [],
   "source": [
    "# This Python 3 environment comes with many helpful analytics libraries installed\n",
    "# It is defined by the kaggle/python Docker image: https://github.com/kaggle/docker-python\n",
    "# For example, here's several helpful packages to load\n",
    "\n",
    "import numpy as np # linear algebra\n",
    "import pandas as pd # data processing, CSV file I/O (e.g. pd.read_csv)\n",
    "\n",
    "# Input data files are available in the read-only \"../input/\" directory\n",
    "# For example, running this (by clicking run or pressing Shift+Enter) will list all files under the input directory\n",
    "\n",
    "import os\n",
    "for dirname, _, filenames in os.walk('/kaggle/input'):\n",
    "    for filename in filenames:\n",
    "        print(os.path.join(dirname, filename))\n",
    "\n",
    "# You can write up to 20GB to the current directory (/kaggle/working/) that gets preserved as output when you create a version using \"Save & Run All\" \n",
    "# You can also write temporary files to /kaggle/temp/, but they won't be saved outside of the current session"
   ]
  },
  {
   "cell_type": "code",
   "execution_count": 2,
   "id": "13b2a527",
   "metadata": {
    "_cell_guid": "f01e713d-ecab-4e49-b4ea-12f94188b65c",
    "_uuid": "426552ad-0622-4442-8c98-2992aa24783d",
    "collapsed": false,
    "execution": {
     "iopub.execute_input": "2023-08-24T18:37:58.853586Z",
     "iopub.status.busy": "2023-08-24T18:37:58.853148Z",
     "iopub.status.idle": "2023-08-24T18:37:58.856834Z",
     "shell.execute_reply": "2023-08-24T18:37:58.856025Z"
    },
    "jupyter": {
     "outputs_hidden": false
    },
    "papermill": {
     "duration": 0.009586,
     "end_time": "2023-08-24T18:37:58.858716",
     "exception": false,
     "start_time": "2023-08-24T18:37:58.849130",
     "status": "completed"
    },
    "tags": []
   },
   "outputs": [],
   "source": [
    "edades = [22,13,8,33,25,44,38,22]"
   ]
  },
  {
   "cell_type": "code",
   "execution_count": 3,
   "id": "94076a64",
   "metadata": {
    "_cell_guid": "a58cd45b-4fa7-420a-a458-f3032677adf0",
    "_uuid": "48ec11d6-4a98-4094-8bca-0973bcea0ba4",
    "collapsed": false,
    "execution": {
     "iopub.execute_input": "2023-08-24T18:37:58.866354Z",
     "iopub.status.busy": "2023-08-24T18:37:58.865629Z",
     "iopub.status.idle": "2023-08-24T18:37:58.872931Z",
     "shell.execute_reply": "2023-08-24T18:37:58.871741Z"
    },
    "jupyter": {
     "outputs_hidden": false
    },
    "papermill": {
     "duration": 0.012861,
     "end_time": "2023-08-24T18:37:58.874694",
     "exception": false,
     "start_time": "2023-08-24T18:37:58.861833",
     "status": "completed"
    },
    "tags": []
   },
   "outputs": [
    {
     "data": {
      "text/plain": [
       "[22, 13, 8, 33, 25, 44, 38, 22]"
      ]
     },
     "execution_count": 3,
     "metadata": {},
     "output_type": "execute_result"
    }
   ],
   "source": [
    "edades"
   ]
  },
  {
   "cell_type": "code",
   "execution_count": 4,
   "id": "0450a437",
   "metadata": {
    "_cell_guid": "fa4d30ba-15cd-47ca-9574-7513cce0437e",
    "_uuid": "680e7356-2fb2-4aa7-ae8f-36536a6aeecb",
    "collapsed": false,
    "execution": {
     "iopub.execute_input": "2023-08-24T18:37:58.882269Z",
     "iopub.status.busy": "2023-08-24T18:37:58.881802Z",
     "iopub.status.idle": "2023-08-24T18:37:58.892099Z",
     "shell.execute_reply": "2023-08-24T18:37:58.891340Z"
    },
    "jupyter": {
     "outputs_hidden": false
    },
    "papermill": {
     "duration": 0.015924,
     "end_time": "2023-08-24T18:37:58.893855",
     "exception": false,
     "start_time": "2023-08-24T18:37:58.877931",
     "status": "completed"
    },
    "tags": []
   },
   "outputs": [
    {
     "data": {
      "text/plain": [
       "0    22\n",
       "1    13\n",
       "2     8\n",
       "3    33\n",
       "4    25\n",
       "5    44\n",
       "6    38\n",
       "7    22\n",
       "dtype: int64"
      ]
     },
     "execution_count": 4,
     "metadata": {},
     "output_type": "execute_result"
    }
   ],
   "source": [
    "serie= pd.Series(edades)\n",
    "serie"
   ]
  },
  {
   "cell_type": "code",
   "execution_count": 5,
   "id": "751f639a",
   "metadata": {
    "_cell_guid": "732485bf-c628-49bb-bf74-13350bf7fb44",
    "_uuid": "03f3cbe1-ea12-4883-b1ed-a8958c0baa2d",
    "collapsed": false,
    "execution": {
     "iopub.execute_input": "2023-08-24T18:37:58.901699Z",
     "iopub.status.busy": "2023-08-24T18:37:58.901378Z",
     "iopub.status.idle": "2023-08-24T18:37:58.908163Z",
     "shell.execute_reply": "2023-08-24T18:37:58.907452Z"
    },
    "jupyter": {
     "outputs_hidden": false
    },
    "papermill": {
     "duration": 0.012398,
     "end_time": "2023-08-24T18:37:58.909611",
     "exception": false,
     "start_time": "2023-08-24T18:37:58.897213",
     "status": "completed"
    },
    "tags": []
   },
   "outputs": [
    {
     "data": {
      "text/plain": [
       "0    22\n",
       "1    13\n",
       "2     8\n",
       "3    33\n",
       "4    25\n",
       "dtype: int64"
      ]
     },
     "execution_count": 5,
     "metadata": {},
     "output_type": "execute_result"
    }
   ],
   "source": [
    "serie.head()"
   ]
  },
  {
   "cell_type": "code",
   "execution_count": null,
   "id": "35aafa40",
   "metadata": {
    "_cell_guid": "d3ce84d5-93ef-466f-bac5-4c6b48279d8a",
    "_uuid": "17e983f2-96ea-4e83-8862-d1166d2302af",
    "collapsed": false,
    "jupyter": {
     "outputs_hidden": false
    },
    "papermill": {
     "duration": 0.003975,
     "end_time": "2023-08-24T18:37:58.918443",
     "exception": false,
     "start_time": "2023-08-24T18:37:58.914468",
     "status": "completed"
    },
    "tags": []
   },
   "outputs": [],
   "source": []
  },
  {
   "cell_type": "code",
   "execution_count": null,
   "id": "de281463",
   "metadata": {
    "_cell_guid": "163b0478-e8ff-40b1-8281-579b61f2395e",
    "_uuid": "391fec11-7702-49cc-931c-65950a52525b",
    "collapsed": false,
    "jupyter": {
     "outputs_hidden": false
    },
    "papermill": {
     "duration": 0.003285,
     "end_time": "2023-08-24T18:37:58.925257",
     "exception": false,
     "start_time": "2023-08-24T18:37:58.921972",
     "status": "completed"
    },
    "tags": []
   },
   "outputs": [],
   "source": []
  },
  {
   "cell_type": "code",
   "execution_count": null,
   "id": "75b31b40",
   "metadata": {
    "_cell_guid": "4ce175cd-896b-4eff-b6bc-2f2d384c4c22",
    "_uuid": "3d089cef-f455-4bed-be9d-6afc062c4a51",
    "collapsed": false,
    "jupyter": {
     "outputs_hidden": false
    },
    "papermill": {
     "duration": 0.00313,
     "end_time": "2023-08-24T18:37:58.931939",
     "exception": false,
     "start_time": "2023-08-24T18:37:58.928809",
     "status": "completed"
    },
    "tags": []
   },
   "outputs": [],
   "source": []
  },
  {
   "cell_type": "code",
   "execution_count": null,
   "id": "8190d6c3",
   "metadata": {
    "_cell_guid": "f100b194-81b0-41a1-9baf-4bc8a3b0ebae",
    "_uuid": "43b2adab-b4b4-48ed-814a-5d7a30426274",
    "collapsed": false,
    "jupyter": {
     "outputs_hidden": false
    },
    "papermill": {
     "duration": 0.00322,
     "end_time": "2023-08-24T18:37:58.938563",
     "exception": false,
     "start_time": "2023-08-24T18:37:58.935343",
     "status": "completed"
    },
    "tags": []
   },
   "outputs": [],
   "source": []
  },
  {
   "cell_type": "code",
   "execution_count": null,
   "id": "b7a5942d",
   "metadata": {
    "_cell_guid": "002b6c63-ffda-46c8-aa0f-3d16989e3864",
    "_uuid": "9295d13f-2156-4072-99fd-b9ea5c46e509",
    "collapsed": false,
    "jupyter": {
     "outputs_hidden": false
    },
    "papermill": {
     "duration": 0.003221,
     "end_time": "2023-08-24T18:37:58.945316",
     "exception": false,
     "start_time": "2023-08-24T18:37:58.942095",
     "status": "completed"
    },
    "tags": []
   },
   "outputs": [],
   "source": []
  },
  {
   "cell_type": "code",
   "execution_count": null,
   "id": "29fabc6a",
   "metadata": {
    "_cell_guid": "029fae00-e99e-4179-96bf-ba7aed16f5b2",
    "_uuid": "8fa742b1-0780-452a-bc6a-98fc97869b12",
    "collapsed": false,
    "jupyter": {
     "outputs_hidden": false
    },
    "papermill": {
     "duration": 0.003255,
     "end_time": "2023-08-24T18:37:58.952087",
     "exception": false,
     "start_time": "2023-08-24T18:37:58.948832",
     "status": "completed"
    },
    "tags": []
   },
   "outputs": [],
   "source": []
  },
  {
   "cell_type": "code",
   "execution_count": null,
   "id": "5337f849",
   "metadata": {
    "_cell_guid": "4321a66d-7ed8-4902-98a1-b570db024a86",
    "_uuid": "7d1d9542-a05a-46d6-ad11-a953da24df4e",
    "collapsed": false,
    "jupyter": {
     "outputs_hidden": false
    },
    "papermill": {
     "duration": 0.003258,
     "end_time": "2023-08-24T18:37:58.959914",
     "exception": false,
     "start_time": "2023-08-24T18:37:58.956656",
     "status": "completed"
    },
    "tags": []
   },
   "outputs": [],
   "source": []
  },
  {
   "cell_type": "code",
   "execution_count": null,
   "id": "9cef6f44",
   "metadata": {
    "_cell_guid": "93bd5ae1-b026-44b9-903b-f1160722fbcf",
    "_uuid": "350ae588-db49-42cd-8b86-ab56cc53add6",
    "collapsed": false,
    "jupyter": {
     "outputs_hidden": false
    },
    "papermill": {
     "duration": 0.003159,
     "end_time": "2023-08-24T18:37:58.966449",
     "exception": false,
     "start_time": "2023-08-24T18:37:58.963290",
     "status": "completed"
    },
    "tags": []
   },
   "outputs": [],
   "source": []
  }
 ],
 "metadata": {
  "kernelspec": {
   "display_name": "Python 3",
   "language": "python",
   "name": "python3"
  },
  "language_info": {
   "codemirror_mode": {
    "name": "ipython",
    "version": 3
   },
   "file_extension": ".py",
   "mimetype": "text/x-python",
   "name": "python",
   "nbconvert_exporter": "python",
   "pygments_lexer": "ipython3",
   "version": "3.10.12"
  },
  "papermill": {
   "default_parameters": {},
   "duration": 8.793257,
   "end_time": "2023-08-24T18:37:59.788914",
   "environment_variables": {},
   "exception": null,
   "input_path": "__notebook__.ipynb",
   "output_path": "__notebook__.ipynb",
   "parameters": {},
   "start_time": "2023-08-24T18:37:50.995657",
   "version": "2.4.0"
  }
 },
 "nbformat": 4,
 "nbformat_minor": 5
}
